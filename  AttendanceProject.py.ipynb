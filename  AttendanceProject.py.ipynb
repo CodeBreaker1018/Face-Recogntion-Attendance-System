{
 "cells": [
  {
   "cell_type": "code",
   "execution_count": null,
   "metadata": {},
   "outputs": [],
   "source": [
    "import cv2 as cv\n",
    "import numpy as np\n",
    "import face_recognition\n",
    "import os\n",
    "\n",
    "path=\"imgBasics\"\n",
    "images=[]\n",
    "classNames=[]\n",
    "myList=os.listdir(path)\n",
    "print(myList)\n",
    "for cl in myList:\n",
    "    currImg=cv.imread(f'{path}/{cl}')\n",
    "    images.append(currImg)\n",
    "    classNames.append(os.path.splitext(cl)[0])\n",
    "\n",
    "def findEncodings(images):\n",
    "    encodeList = []\n",
    "    for img in images:\n",
    "        img=cv.cvtColor(img,cv.COLOR_BGR2RGB)\n",
    "        encode = face_recognition.face_encodings(img)[0]\n",
    "        encodeList.append(encode)\n",
    "    return encodeList\n",
    "\n",
    "encodeListKnown=findEncodings((images))\n",
    "print(\"Encodings Complete\")\n",
    "\n",
    "cap = cv.VideoCapture(0)\n",
    "\n",
    "while True:\n",
    "    success,img = cap.read()\n",
    "    imgS = cv.resize(img,(0,0),None,0.25,0.25)\n",
    "    imgS = cv.cvtColor(imgS, cv.COLOR_BGR2RGB)\n",
    "\n",
    "    facesCurFrame = face_recognition.face_locations(imgS)\n",
    "    encodesCurFrame=face_recognition.face_encodings(imgS,facesCurFrame)[0]\n",
    "\n",
    "    for encodeFace,faceLoc in zip(encodesCurFrame,facesCurFrame):\n",
    "        matches = face_recognition.compare_faces(encodeListKnown,encodeFace)\n",
    "        faceDis = face_recognition.face_distance(encodeListKnown,encodeFace)\n",
    "        print(faceDis)\n",
    "        matchIndex = np.argmin(faceDis)\n",
    "\n",
    "        if matches[matchIndex]:\n",
    "            name=classNames[matchIndex].upper()\n",
    "            print(name)\n",
    "            y1,x2,y2,x1=faceLoc\n",
    "            cv.rectangle(img,(x1,y1),(x2,y2),(0,255,0),2)\n",
    "            cv.rectangle(img,(x1,y2-35),(x2,y2),(0,255,0),cv.FILLED)\n",
    "            cv.putText(img,name,(x1+6,y2-6),cv.FONT_HERSHEY_COMPLEX,1,(255,255,255),2)\n",
    "\n",
    "\n",
    "cv.imshow(\"WebCam\",img)\n",
    "cv.waitKey(1)\n",
    "            "
   ]
  },
  {
   "cell_type": "code",
   "execution_count": null,
   "metadata": {},
   "outputs": [],
   "source": []
  }
 ],
 "metadata": {
  "kernelspec": {
   "display_name": "Python 3",
   "language": "python",
   "name": "python3"
  },
  "language_info": {
   "codemirror_mode": {
    "name": "ipython",
    "version": 3
   },
   "file_extension": ".py",
   "mimetype": "text/x-python",
   "name": "python",
   "nbconvert_exporter": "python",
   "pygments_lexer": "ipython3",
   "version": "3.8.3"
  }
 },
 "nbformat": 4,
 "nbformat_minor": 4
}
